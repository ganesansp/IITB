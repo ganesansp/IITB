{
  "cells": [
    {
      "cell_type": "code",
      "execution_count": 1,
      "id": "8e4665df-f485-49ba-8a9e-779d2a5ecb05",
      "metadata": {
        "id": "8e4665df-f485-49ba-8a9e-779d2a5ecb05"
      },
      "outputs": [],
      "source": [
        "#!pip install tabulate"
      ]
    },
    {
      "cell_type": "code",
      "execution_count": null,
      "id": "dddabef7-b4a0-488f-bde2-98c4b706bafb",
      "metadata": {
        "id": "dddabef7-b4a0-488f-bde2-98c4b706bafb",
        "collapsed": true
      },
      "outputs": [],
      "source": [
        "import pandas as pd\n",
        "\n",
        "# Load the mnist_test.csv file into a Pandas DataFrame\n",
        "\n",
        "df = pd.read_csv(\"mnist_test_nolabels.csv\")\n",
        "print(\"Successfully loaded mnist_test_nolabels.csv into DataFrame df.\")\n",
        "\n",
        "# Display the first 5 rows of the DataFrame\n",
        "display(df.head(5))\n",
        "\n",
        "# Print the shape of the DataFrame\n",
        "print(f\"DataFrame shape: {df.shape}\")"
      ]
    },
    {
      "cell_type": "code",
      "execution_count": 3,
      "id": "56d82125-51d2-4ce5-848f-47acf9d69afc",
      "metadata": {
        "colab": {
          "base_uri": "https://localhost:8080/"
        },
        "id": "56d82125-51d2-4ce5-848f-47acf9d69afc",
        "outputId": "d6b6b10d-1f6e-4414-e1d8-1ab4a210572e"
      },
      "outputs": [
        {
          "output_type": "stream",
          "name": "stdout",
          "text": [
            "\n",
            "First 5 rows as a NumPy array:\n",
            "Shape of the numpy array: (5, 784)\n"
          ]
        }
      ],
      "source": [
        "if df is not None:\n",
        "    # Create a numpy array of the first 5 rows\n",
        "    first_five_rows_no_label = df.head(5).values\n",
        "\n",
        "    print(\"\\nFirst 5 rows as a NumPy array:\")\n",
        "    print(f\"Shape of the numpy array: {first_five_rows_no_label.shape}\")"
      ]
    },
    {
      "cell_type": "code",
      "execution_count": null,
      "id": "d10515ae-34ed-4896-bf17-b2eecc838162",
      "metadata": {
        "colab": {
          "base_uri": "https://localhost:8080/",
          "height": 201
        },
        "id": "d10515ae-34ed-4896-bf17-b2eecc838162",
        "outputId": "299cf5e6-d1d9-40c7-f2b6-c0a331d775c8"
      },
      "outputs": [
        {
          "output_type": "display_data",
          "data": {
            "text/plain": [
              "<Figure size 800x500 with 5 Axes>"
            ],
            "image/png": "[encoded data removed]"
          },
          "metadata": {}
        }
      ],
      "source": [
        "import matplotlib.pyplot as plt\n",
        "\n",
        "# Reshape each row into a 28x28 image and display them\n",
        "plt.figure(figsize=(8, 5))  # Adjust figure size for better visualization\n",
        "for i in range(5):\n",
        "    img = first_five_rows_no_label[i].reshape(28, 28)  # Reshape row\n",
        "    plt.subplot(1, 5, i + 1)  # Create subplot for each image\n",
        "    plt.imshow(img, cmap='gray')  # Display the image in grayscale\n",
        "    plt.title(f\"Image {i + 1}\")\n",
        "    plt.axis('off')  # Turn off axis labels\n",
        "plt.tight_layout()  # Adjust layout to prevent overlapping\n",
        "plt.show()"
      ]
    },
    {
      "cell_type": "code",
      "source": [
        "import numpy as np\n",
        "\n",
        "# gaussian filters\n",
        "gauss = np.array([\n",
        "    [1/16,  2/16,  1/16],\n",
        "    [2/16,  4/16,  2/16],\n",
        "    [1/16,  2/16,  1/16]\n",
        "])\n",
        "# laplacian filters\n",
        "lapl = np.array([\n",
        "    [0,  1,  0],\n",
        "    [1,  -4,  1],\n",
        "    [0,  1,  0]\n",
        "])\n",
        "\n",
        "# sobel filters\n",
        "sobel_x = np.array([\n",
        "    [-1,  0,  1],\n",
        "    [-2,  0,  2],\n",
        "    [-1,  0,  1]\n",
        "])\n",
        "sobel_y = np.array([\n",
        "    [-1, -2, -1],\n",
        "    [ 0,  0,  0],\n",
        "    [ 1,  2,  1]\n",
        "])\n",
        "\n",
        "\n",
        "# prewitt filters\n",
        "prewitt_x = np.array([\n",
        "    [-1,  0,  1],\n",
        "    [-1,  0,  1],\n",
        "    [-1,  0,  1]\n",
        "])\n",
        "prewitt_y = np.array([\n",
        "    [-1, -1, -1],\n",
        "    [ 0,  0,  0],\n",
        "    [ 1,  1,  1]\n",
        "])"
      ],
      "metadata": {
        "id": "979RN9C40NbD"
      },
      "id": "979RN9C40NbD",
      "execution_count": null,
      "outputs": []
    },
    {
      "cell_type": "code",
      "execution_count": null,
      "id": "07d82393-3b7f-40f0-acac-63d511b355ff",
      "metadata": {
        "colab": {
          "base_uri": "https://localhost:8080/",
          "height": 236
        },
        "id": "07d82393-3b7f-40f0-acac-63d511b355ff",
        "outputId": "a3e3415a-bb74-45c7-84c0-f945a343954c"
      },
      "outputs": [
        {
          "output_type": "stream",
          "name": "stdout",
          "text": [
            "Shape of convolved images array: (5, 26, 26)\n",
            "Data type of convolved images array: float64\n"
          ]
        },
        {
          "output_type": "display_data",
          "data": {
            "text/plain": [
              "<Figure size 800x500 with 5 Axes>"
            ],
            "image/png": "[encoded data removed]"
          },
          "metadata": {}
        }
      ],
      "source": [
        "import numpy as np\n",
        "from scipy.signal import convolve2d\n",
        "\n",
        "# Apply convolution to each reshaped row (image)\n",
        "\n",
        "# Box-Blur filter\n",
        "k = 7\n",
        "convolved_images = []\n",
        "filter_kernel = np.ones((k, k))/(k**2)  # k x k filter initialized with 1/9s\n",
        "\n",
        "for i in range(5):\n",
        "    img = first_five_rows_no_label[i].reshape(28, 28)\n",
        "    # convolved_img = convolve2d(img, filter_kernel, mode='valid')  # Use 'valid' mode for no padding\n",
        "    convolved_img = convolve2d(img, gauss[:,::-1], mode='valid')\n",
        "    convolved_images.append(convolved_img)\n",
        "\n",
        "# Convert the list of convolved images to a NumPy array\n",
        "convolved_images_array = np.array(convolved_images)\n",
        "\n",
        "# Print diagnostic information about the new array\n",
        "print(f\"Shape of convolved images array: {convolved_images_array.shape}\")  # (5, 27, 27) because of 'valid' mode\n",
        "print(f\"Data type of convolved images array: {convolved_images_array.dtype}\")\n",
        "\n",
        "# Display the convolved images\n",
        "plt.figure(figsize=(8, 5))\n",
        "for i in range(5):\n",
        "    plt.subplot(1, 5, i + 1)\n",
        "    plt.imshow(convolved_images_array[i], cmap='gray')\n",
        "    plt.title(f\"Convolved {i + 1}\")\n",
        "    plt.axis('off')\n",
        "plt.tight_layout()\n",
        "plt.show()"
      ]
    },
    {
      "cell_type": "markdown",
      "id": "30ebdf3d-4ee2-4a01-9636-5b9f7c2b0f01",
      "metadata": {
        "id": "30ebdf3d-4ee2-4a01-9636-5b9f7c2b0f01"
      },
      "source": [
        "### Can you now use these vectors created form convolutions to perform specific ML tasks like creating a similarity heatmap, clustering, etc."
      ]
    },
    {
      "cell_type": "code",
      "execution_count": null,
      "id": "e5561669-b0c6-44b6-8b78-6f0190cd94b4",
      "metadata": {
        "id": "e5561669-b0c6-44b6-8b78-6f0190cd94b4"
      },
      "outputs": [],
      "source": []
    },
    {
      "cell_type": "markdown",
      "id": "082743fb-1062-482f-af98-b06178dedfd9",
      "metadata": {
        "id": "082743fb-1062-482f-af98-b06178dedfd9"
      },
      "source": [
        "## Conventional Image Vectorization Methods\n",
        "\n",
        "| **Category**                  | **Method**                          | **Description**                                                                                                                                           |\n",
        "|:------------------------------|:-------------------------------------|:-----------------------------------------------------------------------------------------------------------------------------------------------------------|\n",
        "| **Color Features**           | Color Histograms                    | Represents color distribution in an image; useful when color is a distinguishing factor. Invariant to small pose and scale changes.                       |\n",
        "| **Texture Features**         | Gray-Level Co-occurrence Matrix (GLCM) | Captures spatial relationships between pixel intensities. Haralick features (contrast, correlation, energy) are derived from GLCMs.                      |\n",
        "|                              | Local Binary Patterns (LBP)         | Describes local texture by comparing a pixel with its neighbors. Robust to illumination changes.                                                         |\n",
        "|                              | Gabor Filters                       | Sensitive to specific orientations and frequencies. Effective for analyzing texture.                                                                      |\n",
        "| **Edge and Shape Features**  | Edge Detection (Canny, Sobel)       | Identifies edges and outlines of objects in an image.                                                                                                     |\n",
        "|                              | Histogram of Oriented Gradients (HOG) | Captures gradient orientation distributions in image regions. Effective for object detection (e.g., pedestrians).                                         |\n",
        "|                              | Scale-Invariant Feature Transform (SIFT) | Detects local features invariant to scale and rotation.                                                                                                  |\n",
        "|                              | Speeded-Up Robust Features (SURF)   | Faster alternative to SIFT with similar capabilities.                                                                                                     |\n",
        "|                              | Corner Detection (Harris, etc.)     | Finds distinctive points (corners) in images.                                                                                                             |\n"
      ]
    },
    {
      "cell_type": "code",
      "execution_count": null,
      "id": "6508a235-6705-4c6f-90ac-2884ee5afb30",
      "metadata": {
        "id": "6508a235-6705-4c6f-90ac-2884ee5afb30"
      },
      "outputs": [],
      "source": []
    },
    {
      "cell_type": "markdown",
      "id": "3c2ec031-92c0-4ef2-9dbc-a4b8ec33906e",
      "metadata": {
        "id": "3c2ec031-92c0-4ef2-9dbc-a4b8ec33906e"
      },
      "source": [
        "## 3x3 convolution filters used in image processing.\n",
        "These filters are fundamental in many computer vision tasks, especially for edge detection and blurring.\n",
        "\n",
        "**1. Gaussian Blur Filter:**\n",
        "\n",
        "* This filter smooths out noise and reduces image details.\n",
        "* It uses a Gaussian distribution to assign weights to neighboring pixels, with the center pixel having the highest weight.\n",
        "* A common 3x3 Gaussian kernel:\n",
        "    * $$ \\frac{1}{16} \\begin{bmatrix} 1 & 2 & 1 \\\\ 2 & 4 & 2 \\\\ 1 & 2 & 1 \\end{bmatrix} $$\n",
        "\n",
        "**2. Sobel Filters (Edge Detection):**\n",
        "\n",
        "* These filters are used to detect edges in an image by approximating the image's gradient.\n",
        "* They come in two versions: Sobel-X (detects vertical edges) and Sobel-Y (detects horizontal edges).\n",
        "* Sobel-X:\n",
        "    * $$ \\begin{bmatrix} -1 & 0 & 1 \\\\ -2 & 0 & 2 \\\\ -1 & 0 & 1 \\end{bmatrix} $$\n",
        "* Sobel-Y:\n",
        "    * $$ \\begin{bmatrix} -1 & -2 & -1 \\\\ 0 & 0 & 0 \\\\ 1 & 2 & 1 \\end{bmatrix} $$\n",
        "\n",
        "**3. Prewitt Filters (Edge Detection):**\n",
        "\n",
        "* Similar to Sobel filters, Prewitt filters detect edges by approximating gradients.\n",
        "* They are generally simpler and faster than Sobel filters, but may be less accurate.\n",
        "* Prewitt-X:\n",
        "    * $$ \\begin{bmatrix} -1 & 0 & 1 \\\\ -1 & 0 & 1 \\\\ -1 & 0 & 1 \\end{bmatrix} $$\n",
        "* Prewitt-Y:\n",
        "    * $$ \\begin{bmatrix} -1 & -1 & -1 \\\\ 0 & 0 & 0 \\\\ 1 & 1 & 1 \\end{bmatrix} $$\n",
        "\n",
        "**4. Laplacian Filter (Edge Detection):**\n",
        "\n",
        "* This filter is used to detect edges by calculating the second-order derivative of the image intensity.\n",
        "* It's sensitive to noise and often used in combination with a Gaussian blur.\n",
        "* A common Laplacian kernel:\n",
        "    * $$ \\begin{bmatrix} 0 & 1 & 0 \\\\ 1 & -4 & 1 \\\\ 0 & 1 & 0 \\end{bmatrix} $$\n",
        "\n",
        "**5. Box Blur Filter (Averaging Blur):**\n",
        "\n",
        "* This filter performs a simple average of the pixels within the 3x3 window.\n",
        "* It creates a uniform blurring effect.\n",
        "* A common box blur kernel:\n",
        "    * $$ \\frac{1}{9} \\begin{bmatrix} 1 & 1 & 1 \\\\ 1 & 1 & 1 \\\\ 1 & 1 & 1 \\end{bmatrix} $$\n",
        "\n",
        "**Key Points:**\n",
        "\n",
        "* The choice of filter depends on the specific image processing task.\n",
        "* Edge detection filters highlight areas of rapid intensity change.\n",
        "* Blurring filters reduce noise and smooth out details.\n",
        "* These are used extensively in many image processing pipelines, and are the basis of many more complex operations.\n"
      ]
    },
    {
      "cell_type": "code",
      "execution_count": null,
      "id": "91504e96-d060-43a2-b640-cb270117257d",
      "metadata": {
        "id": "91504e96-d060-43a2-b640-cb270117257d"
      },
      "outputs": [],
      "source": []
    }
  ],
  "metadata": {
    "kernelspec": {
      "display_name": "Python 3 (ipykernel)",
      "language": "python",
      "name": "python3"
    },
    "language_info": {
      "codemirror_mode": {
        "name": "ipython",
        "version": 3
      },
      "file_extension": ".py",
      "mimetype": "text/x-python",
      "name": "python",
      "nbconvert_exporter": "python",
      "pygments_lexer": "ipython3",
      "version": "3.12.9"
    },
    "colab": {
      "provenance": []
    }
  },
  "nbformat": 4,
  "nbformat_minor": 5
}